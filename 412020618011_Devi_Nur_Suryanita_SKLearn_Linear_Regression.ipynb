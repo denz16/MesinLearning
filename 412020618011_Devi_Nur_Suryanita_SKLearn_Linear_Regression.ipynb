{
  "nbformat": 4,
  "nbformat_minor": 0,
  "metadata": {
    "colab": {
      "name": "412020618011-Devi Nur Suryanita-SKLearn Linear Regression",
      "provenance": []
    },
    "kernelspec": {
      "name": "python3",
      "display_name": "Python 3"
    },
    "language_info": {
      "name": "python"
    }
  },
  "cells": [
    {
      "cell_type": "code",
      "execution_count": 1,
      "metadata": {
        "id": "lLHgh6UJ1O5Z"
      },
      "outputs": [],
      "source": [
        "#linear regresi\n",
        "import numpy as np\n",
        "\n",
        "#buat data jumlah kamar\n",
        "bedrooms = np.array([1, 2, 3, 4])\n",
        "\n",
        "#jumlah kamar pada sumbu x adalah variable independent\n",
        "#harga rumah pada sumbu y adalah variable dependent\n",
        "#data harga rumah, asumsi dalam dollar\n",
        "house_price = np.array([15000, 18000, 27000, 34000])"
      ]
    },
    {
      "cell_type": "code",
      "source": [
        "#menampilkan scatter plot dari dataset untuk grafik koordinat\n",
        "import matplotlib.pyplot as plt\n",
        "%matplotlib inline \n",
        "\n",
        "plt.scatter(bedrooms, house_price)"
      ],
      "metadata": {
        "colab": {
          "base_uri": "https://localhost:8080/",
          "height": 282
        },
        "id": "sFd7bpMT1RRs",
        "outputId": "9edb4ee8-f583-459a-ed1b-b298dbf4ae9b"
      },
      "execution_count": 2,
      "outputs": [
        {
          "output_type": "execute_result",
          "data": {
            "text/plain": [
              "<matplotlib.collections.PathCollection at 0x7f987c172fd0>"
            ]
          },
          "metadata": {},
          "execution_count": 2
        },
        {
          "output_type": "display_data",
          "data": {
            "text/plain": [
              "<Figure size 432x288 with 1 Axes>"
            ],
            "image/png": "[encoded data removed]"
          },
          "metadata": {
            "needs_background": "light"
          }
        }
      ]
    },
    {
      "cell_type": "code",
      "source": [
        "from sklearn.linear_model import LinearRegression\n",
        "\n",
        "#latih model dengan linear regression.fit()\n",
        "bedrooms = bedrooms.reshape(-1,1) #membentuk matriks kolom\n",
        "linreg = LinearRegression()\n",
        "linreg.fit(bedrooms, house_price)\n",
        "\n",
        "LinearRegression()"
      ],
      "metadata": {
        "colab": {
          "base_uri": "https://localhost:8080/"
        },
        "id": "Mbf6PI9b1Umd",
        "outputId": "6067d413-fce5-4471-f18c-4bffcce44fee"
      },
      "execution_count": 3,
      "outputs": [
        {
          "output_type": "execute_result",
          "data": {
            "text/plain": [
              "LinearRegression()"
            ]
          },
          "metadata": {},
          "execution_count": 3
        }
      ]
    },
    {
      "cell_type": "code",
      "source": [
        "#menampilkan plot hubungan antara jumlah kamar dan harga rumah\n",
        "plt.scatter(bedrooms, house_price)\n",
        "plt.plot(bedrooms, linreg.predict(bedrooms)) \n",
        "#prediksi bahwa jumlahnya semakin banyak kamar semakin banyak pula keuntungan"
      ],
      "metadata": {
        "colab": {
          "base_uri": "https://localhost:8080/",
          "height": 286
        },
        "id": "ZH3R5FpE1YLD",
        "outputId": "276bd5d8-fef3-4e21-abd1-f9f6afa51c98"
      },
      "execution_count": 4,
      "outputs": [
        {
          "output_type": "execute_result",
          "data": {
            "text/plain": [
              "[<matplotlib.lines.Line2D at 0x7f986d40b5d0>]"
            ]
          },
          "metadata": {},
          "execution_count": 4
        },
        {
          "output_type": "display_data",
          "data": {
            "text/plain": [
              "<Figure size 432x288 with 1 Axes>"
            ],
            "image/png": "[encoded data removed]"
          },
          "metadata": {
            "needs_background": "light"
          }
        }
      ]
    },
    {
      "cell_type": "code",
      "source": [
        ""
      ],
      "metadata": {
        "id": "g2WD27wR1YPT"
      },
      "execution_count": 4,
      "outputs": []
    }
  ]
}